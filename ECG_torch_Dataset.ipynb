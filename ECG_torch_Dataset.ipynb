{
  "nbformat": 4,
  "nbformat_minor": 0,
  "metadata": {
    "colab": {
      "name": "ECG_torch_Dataset.ipynb",
      "provenance": [],
      "collapsed_sections": []
    },
    "kernelspec": {
      "name": "python3",
      "display_name": "Python 3"
    }
  },
  "cells": [
    {
      "cell_type": "code",
      "metadata": {
        "id": "VY6LHV3PtVs8",
        "colab_type": "code",
        "colab": {}
      },
      "source": [
        "import pandas as pd\n",
        "import numpy as np\n",
        "import torch\n",
        "from torch.utils import data\n",
        "import torch.nn as nn\n",
        "from torch.utils.data import Dataset\n",
        "from torch.utils.data import DataLoader\n",
        "from torchvision import transforms\n",
        "from sklearn.preprocessing import LabelEncoder\n",
        "from torch.utils.data.sampler import SubsetRandomSampler\n"
      ],
      "execution_count": 0,
      "outputs": []
    },
    {
      "cell_type": "code",
      "metadata": {
        "id": "Uaza4IEvs0nz",
        "colab_type": "code",
        "outputId": "4db97aa1-e97c-4cab-9ff7-238ea103dda9",
        "colab": {
          "base_uri": "https://localhost:8080/",
          "height": 34
        }
      },
      "source": [
        "from google.colab import drive\n",
        "drive.mount('/content/gdrive')\n"
      ],
      "execution_count": 2,
      "outputs": [
        {
          "output_type": "stream",
          "text": [
            "Drive already mounted at /content/gdrive; to attempt to forcibly remount, call drive.mount(\"/content/gdrive\", force_remount=True).\n"
          ],
          "name": "stdout"
        }
      ]
    },
    {
      "cell_type": "code",
      "metadata": {
        "id": "RPcBuXgVkYmL",
        "colab_type": "code",
        "colab": {}
      },
      "source": [
        "class ECG_dataset(Dataset):\n",
        "    def __init__(self, csv_file, transform=None):\n",
        "        self.ecg_frame = pd.read_csv(csv_file, index_col = 0)\n",
        "#        self.ecg_frame = self.ecg_frame.drop(columns = ['Unnamed: 0'])\n",
        "        self.transform = transform\n",
        "        le = LabelEncoder()\n",
        "        self.ecg_frame.Label = le.fit_transform(self.ecg_frame.Label)\n",
        "\n",
        "    def __len__(self):\n",
        "        return len(self.ecg_frame)\n",
        "    \n",
        "    def __getitem__(self, idx):\n",
        "      if torch.is_tensor(idx):\n",
        "        idx = idx.tolist()\n",
        "      signal = np.asarray(self.ecg_frame.iloc[idx, :-1].values).reshape(1,1000).astype('double')\n",
        "      signal = torch.from_numpy(signal).type(torch.FloatTensor)\n",
        "      label = self.ecg_frame.Label.values[idx]    \n",
        "      label = torch.from_numpy(label).type(torch.LongTensor)\n",
        "\n",
        "      #sample = {'signal': signal, 'label': label}\n",
        "      if self.transform:\n",
        "          signal_as_tensor = self.transform(signal)[0][0]\n",
        "      return (signal, label)"
      ],
      "execution_count": 0,
      "outputs": []
    },
    {
      "cell_type": "code",
      "metadata": {
        "id": "8IqmK0t-7Yba",
        "colab_type": "code",
        "colab": {}
      },
      "source": [
        "csv = '/content/gdrive/My Drive/ECG_data/test_1000.csv'\n",
        "transformations = transforms.Compose([transforms.ToTensor()])\n",
        "\n",
        "ECG_data = ECG_dataset(csv_file = csv)\n",
        "dataloader = DataLoader(ECG_data, batch_size=4,\n",
        "                        shuffle=True, num_workers=4)"
      ],
      "execution_count": 0,
      "outputs": []
    },
    {
      "cell_type": "code",
      "metadata": {
        "id": "dPDPUKgiuPGH",
        "colab_type": "code",
        "outputId": "c4fcd0de-34b2-48fd-c936-acc820725abe",
        "colab": {
          "base_uri": "https://localhost:8080/",
          "height": 85
        }
      },
      "source": [
        "for _, (x, y) in enumerate(dataloader):\n",
        "    print(x,y)\n",
        "    break"
      ],
      "execution_count": 5,
      "outputs": [
        {
          "output_type": "stream",
          "text": [
            "tensor([[-0.0225, -0.0106,  0.0262,  ...,  0.0183,  0.0267,  0.0286],\n",
            "        [-0.0623, -0.1057, -0.0854,  ..., -0.4133, -0.4102, -0.4282],\n",
            "        [-0.1081, -0.1729, -0.1528,  ..., -0.1379, -0.1565, -0.1418],\n",
            "        [-0.4066, -0.4324, -0.4701,  ..., -0.0554, -0.1259, -0.2175]]) tensor([0, 0, 0, 0])\n"
          ],
          "name": "stdout"
        }
      ]
    },
    {
      "cell_type": "code",
      "metadata": {
        "id": "fX56cD_JghOu",
        "colab_type": "code",
        "outputId": "522e3608-972d-478d-ef8e-1ac8183d687d",
        "colab": {
          "base_uri": "https://localhost:8080/",
          "height": 241
        }
      },
      "source": [
        "# Train test split\n",
        "validation_split = .2\n",
        "shuffle_dataset = True\n",
        "random_seed= 42\n",
        "dataset_size = len(ECG_data)\n",
        "indices = list(range(dataset_size))\n",
        "split = int(np.floor(validation_split * dataset_size))\n",
        "if shuffle_dataset :\n",
        "    np.random.seed(random_seed)\n",
        "    np.random.shuffle(indices)\n",
        "train_indices, val_indices = indices[split:], indices[:split]\n",
        "\n",
        "train_sampler = SubsetRandomSampler(train_indices)\n",
        "valid_sampler = SubsetRandomSampler(val_indices)\n",
        "\n",
        "train_loader = DataLoader(ECG_data, batch_size=128, \n",
        "                                           sampler=train_sampler)\n",
        "validation_loader = DataLoader(ECG_data, batch_size=128,\n",
        "                                                sampler=valid_sampler)\n",
        "for _, (x,y) in enumerate(train_loader):\n",
        "  print(x,y)\n",
        "  break\n",
        "\n",
        "#net, loss, val_score = learn(train_loader, train_loader)\n"
      ],
      "execution_count": 17,
      "outputs": [
        {
          "output_type": "stream",
          "text": [
            "tensor([[-0.5118, -0.5272, -0.4968,  ..., -0.4109, -0.4119, -0.4249],\n",
            "        [ 0.0850, -0.1758, -0.2695,  ...,  0.0355,  0.0327,  0.0501],\n",
            "        [ 0.0617,  0.0758,  0.0551,  ...,  0.1438,  0.1529,  0.1456],\n",
            "        ...,\n",
            "        [-0.1287, -0.1460, -0.1423,  ...,  0.0092,  0.0221,  0.0009],\n",
            "        [-0.3484, -0.0227,  0.5873,  ..., -0.4178, -0.4016, -0.4140],\n",
            "        [-0.1950, -0.1750, -0.1950,  ...,  0.2450,  0.3250,  0.3350]]) tensor([0, 0, 0, 2, 1, 0, 0, 2, 0, 2, 0, 1, 1, 0, 0, 0, 0, 0, 0, 0, 0, 0, 0, 2,\n",
            "        0, 0, 2, 0, 0, 1, 0, 0, 1, 0, 0, 0, 2, 0, 0, 2, 0, 0, 2, 2, 0, 0, 0, 1,\n",
            "        0, 0, 2, 1, 0, 0, 1, 0, 0, 2, 0, 1, 0, 0, 0, 0, 1, 0, 0, 0, 0, 1, 0, 2,\n",
            "        1, 0, 0, 0, 0, 1, 2, 0, 1, 0, 2, 0, 2, 1, 0, 2, 1, 0, 2, 0, 0, 0, 2, 1,\n",
            "        0, 0, 1, 2, 2, 0, 0, 0, 1, 2, 1, 0, 0, 0, 0, 0, 1, 2, 0, 0, 0, 0, 0, 1,\n",
            "        2, 2, 0, 0, 0, 0, 0, 2])\n"
          ],
          "name": "stdout"
        }
      ]
    }
  ]
}