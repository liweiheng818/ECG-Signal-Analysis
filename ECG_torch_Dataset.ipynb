{
  "nbformat": 4,
  "nbformat_minor": 0,
  "metadata": {
    "colab": {
      "name": "ECG_torch_Dataset.ipynb",
      "provenance": [],
      "collapsed_sections": []
    },
    "kernelspec": {
      "name": "python3",
      "display_name": "Python 3"
    }
  },
  "cells": [
    {
      "cell_type": "code",
      "metadata": {
        "id": "VY6LHV3PtVs8",
        "colab_type": "code",
        "colab": {}
      },
      "source": [
        "import pandas as pd\n",
        "import numpy as np\n",
        "import torch\n",
        "from torch.utils import data\n",
        "from torch.utils.data import Dataset\n",
        "from torch.utils.data import DataLoader\n",
        "from torchvision import transforms\n",
        "from sklearn.preprocessing import LabelEncoder"
      ],
      "execution_count": 0,
      "outputs": []
    },
    {
      "cell_type": "code",
      "metadata": {
        "id": "Uaza4IEvs0nz",
        "colab_type": "code",
        "outputId": "45deeace-f926-4fd7-c72d-fc6d91f939b4",
        "colab": {
          "base_uri": "https://localhost:8080/",
          "height": 122
        }
      },
      "source": [
        "from google.colab import drive\n",
        "drive.mount('/content/gdrive')\n"
      ],
      "execution_count": 2,
      "outputs": [
        {
          "output_type": "stream",
          "text": [
            "Go to this URL in a browser: https://accounts.google.com/o/oauth2/auth?client_id=947318989803-6bn6qk8qdgf4n4g3pfee6491hc0brc4i.apps.googleusercontent.com&redirect_uri=urn%3aietf%3awg%3aoauth%3a2.0%3aoob&response_type=code&scope=email%20https%3a%2f%2fwww.googleapis.com%2fauth%2fdocs.test%20https%3a%2f%2fwww.googleapis.com%2fauth%2fdrive%20https%3a%2f%2fwww.googleapis.com%2fauth%2fdrive.photos.readonly%20https%3a%2f%2fwww.googleapis.com%2fauth%2fpeopleapi.readonly\n",
            "\n",
            "Enter your authorization code:\n",
            "··········\n",
            "Mounted at /content/gdrive\n"
          ],
          "name": "stdout"
        }
      ]
    },
    {
      "cell_type": "code",
      "metadata": {
        "id": "RPcBuXgVkYmL",
        "colab_type": "code",
        "colab": {}
      },
      "source": [
        "class ECG_dataset(Dataset):\n",
        "    def __init__(self, csv_file, transform=None):\n",
        "        self.ecg_frame = pd.read_csv(csv_file)\n",
        "        self.ecg_frame = self.ecg_frame.drop(columns = ['Unnamed: 0'])\n",
        "        self.transform = transform\n",
        "        le = LabelEncoder()\n",
        "        self.ecg_frame.Label = le.fit_transform(self.ecg_frame.Label)\n",
        "\n",
        "    def __len__(self):\n",
        "        return len(self.ecg_frame)\n",
        "    \n",
        "    def __getitem__(self, idx):\n",
        "      if torch.is_tensor(idx):\n",
        "        idx = idx.tolist()\n",
        "      signal = np.asarray(self.ecg_frame.iloc[idx, :-1].values).reshape(1,1000).astype('float16')\n",
        "      label = self.ecg_frame.Label.values[idx]    \n",
        "      sample = {'signal': signal, 'label': label}\n",
        "      if self.transform:\n",
        "          signal_as_tensor = self.transform(signal)[0][0]\n",
        "      return (signal_as_tensor, label)"
      ],
      "execution_count": 0,
      "outputs": []
    },
    {
      "cell_type": "code",
      "metadata": {
        "id": "8IqmK0t-7Yba",
        "colab_type": "code",
        "colab": {}
      },
      "source": [
        "csv = '/content/gdrive/My Drive/ECG_data/test_1000.csv'\n",
        "transformations = transforms.Compose([transforms.ToTensor()])\n",
        "\n",
        "ECG_data = ECG_dataset(csv_file = csv, transform = transformations)\n",
        "dataloader = DataLoader(ECG_data, batch_size=4,\n",
        "                        shuffle=True, num_workers=4)"
      ],
      "execution_count": 0,
      "outputs": []
    },
    {
      "cell_type": "code",
      "metadata": {
        "id": "dPDPUKgiuPGH",
        "colab_type": "code",
        "outputId": "d6bde5a7-fcc7-4e75-d6f7-c1dda780a94a",
        "colab": {
          "base_uri": "https://localhost:8080/",
          "height": 102
        }
      },
      "source": [
        "for i,batch in enumerate(dataloader):\n",
        "    print(i, batch)\n",
        "    break"
      ],
      "execution_count": 111,
      "outputs": [
        {
          "output_type": "stream",
          "text": [
            "0 [tensor([[-0.0050,  0.0250,  0.0150,  ..., -0.0150,  0.0050, -0.0050],\n",
            "        [ 0.0751,  0.0909,  0.0815,  ...,  0.0523,  0.0695,  0.0622],\n",
            "        [ 0.1411,  0.1509,  0.1376,  ...,  0.0120,  0.0092,  0.0666],\n",
            "        [-0.4438, -0.4265, -0.4170,  ..., -0.4985, -0.4919, -0.4893]],\n",
            "       dtype=torch.float16), tensor([2, 0, 0, 0])]\n"
          ],
          "name": "stdout"
        }
      ]
    }
  ]
}